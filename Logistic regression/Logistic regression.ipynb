{
 "cells": [
  {
   "cell_type": "code",
   "execution_count": 1,
   "metadata": {
    "collapsed": true
   },
   "outputs": [],
   "source": [
    "import time\n",
    "from sklearn.model_selection import train_test_split\n",
    "from sklearn.feature_extraction.text import CountVectorizer\n",
    "from sklearn.feature_extraction.text import TfidfTransformer\n",
    "from sklearn.feature_extraction.text import TfidfVectorizer\n",
    "import numpy as np"
   ]
  },
  {
   "cell_type": "code",
   "execution_count": 2,
   "metadata": {
    "collapsed": false
   },
   "outputs": [
    {
     "name": "stdout",
     "output_type": "stream",
     "text": [
      "(196789,) (49217,)\n"
     ]
    }
   ],
   "source": [
    "# 加载数据\n",
    "ytrain, xtrain = np.loadtxt('../../data/search_appointments_split_train_final.txt', dtype='str', delimiter = '\\t', unpack = True)\n",
    "ytest, xtest = np.loadtxt('../../data/search_appointments_split_test_final.txt', dtype='str', delimiter = '\\t', unpack = True)\n",
    "print xtrain.shape, xtest.shape"
   ]
  },
  {
   "cell_type": "code",
   "execution_count": 3,
   "metadata": {
    "collapsed": false
   },
   "outputs": [
    {
     "name": "stdout",
     "output_type": "stream",
     "text": [
      "(196789, 92527)\n",
      "(49217, 92527)\n"
     ]
    }
   ],
   "source": [
    "# 提取特征\n",
    "tfidf_vect = TfidfVectorizer()\n",
    "xtrain_tfidf = tfidf_vect.fit_transform(xtrain)\n",
    "xtest_tfidf = tfidf_vect.transform(xtest)\n",
    "print xtrain_tfidf.shape\n",
    "print xtest_tfidf.shape"
   ]
  },
  {
   "cell_type": "markdown",
   "metadata": {},
   "source": [
    "## bayes"
   ]
  },
  {
   "cell_type": "code",
   "execution_count": 8,
   "metadata": {
    "collapsed": true
   },
   "outputs": [],
   "source": [
    "from sklearn.naive_bayes import MultinomialNB"
   ]
  },
  {
   "cell_type": "code",
   "execution_count": 9,
   "metadata": {
    "collapsed": false
   },
   "outputs": [
    {
     "name": "stdout",
     "output_type": "stream",
     "text": [
      "27.944229\n"
     ]
    }
   ],
   "source": [
    "# 训练分类器\n",
    "t1 = time.clock()\n",
    "clf_bayes = MultinomialNB().fit(xtrain_tfidf, ytrain)\n",
    "train_time = time.clock() - t1\n",
    "print train_time\n",
    "# clf_svm = svm.SVC(kernel='linear').fit(xtrain_tfidf, ytrain)"
   ]
  },
  {
   "cell_type": "code",
   "execution_count": 10,
   "metadata": {
    "collapsed": false
   },
   "outputs": [],
   "source": [
    "# 保存模型\n",
    "from sklearn.externals import joblib\n",
    "joblib.dump(clf_bayes, 'app_bayes.pkl')\n",
    "\n",
    "# 加载模型\n",
    "clf_bayes = joblib.load('app_bayes.pkl')"
   ]
  },
  {
   "cell_type": "code",
   "execution_count": 11,
   "metadata": {
    "collapsed": false
   },
   "outputs": [],
   "source": [
    "# 预测并计算准确率\n",
    "predicted_bayes = clf_bayes.predict(xtest_tfidf)\n",
    "# np.mean(predicted_bayes == ytest)\n",
    "# clf_bayes.score(xtest_tfidf, ytest)\n",
    "\n",
    "# predicted_svm = clf_svm.predict(xtest_tfidf)\n",
    "# np.mean(predicted_svm == ytest)"
   ]
  },
  {
   "cell_type": "code",
   "execution_count": 12,
   "metadata": {
    "collapsed": false
   },
   "outputs": [
    {
     "name": "stderr",
     "output_type": "stream",
     "text": [
      "/usr/share/Anaconda2/lib/python2.7/site-packages/sklearn/metrics/classification.py:1113: UndefinedMetricWarning: Precision and F-score are ill-defined and being set to 0.0 in labels with no predicted samples.\n",
      "  'precision', 'predicted', average, warn_for)\n"
     ]
    }
   ],
   "source": [
    "# 分类计算准确率\n",
    "from sklearn import metrics\n",
    "result_bayes = metrics.classification_report(ytest, predicted_bayes)"
   ]
  },
  {
   "cell_type": "code",
   "execution_count": 13,
   "metadata": {
    "collapsed": false
   },
   "outputs": [],
   "source": [
    "# 保存结果\n",
    "with open(\"result_using_bayes.txt\", 'wb') as f:\n",
    "    f.write(result_bayes)\n",
    "    f.close()"
   ]
  },
  {
   "cell_type": "code",
   "execution_count": 14,
   "metadata": {
    "collapsed": false
   },
   "outputs": [
    {
     "name": "stdout",
     "output_type": "stream",
     "text": [
      "                 precision    recall  f1-score   support\n",
      "\n",
      "      中医科       0.50      0.47      0.49      1840\n",
      "   乳腺外科       0.81      0.87      0.84      1380\n",
      "         产科       0.72      0.78      0.75      1807\n",
      "         儿科       0.49      0.63      0.55      1805\n",
      "   内分泌科       0.61      0.70      0.65      1722\n",
      "      口腔科       0.84      0.89      0.87      1775\n",
      "   呼吸内科       0.55      0.77      0.64      1822\n",
      "         妇科       0.68      0.83      0.74      1819\n",
      "      康复科       0.00      0.00      0.00       239\n",
      "      心理科       1.00      0.31      0.48       434\n",
      "心血管内科       0.69      0.78      0.73      1527\n",
      "心血管外科       0.00      0.00      0.00       141\n",
      "      急诊科       0.92      0.53      0.67       978\n",
      "      性病科       0.93      0.49      0.64       845\n",
      "      感染科       0.87      0.42      0.57      1150\n",
      "   整形外科       0.00      0.00      0.00       201\n",
      "   新生儿科       0.86      0.31      0.46       722\n",
      "      普外科       0.55      0.42      0.47      1521\n",
      "   普通内科       0.87      0.22      0.35      1256\n",
      "   泌尿外科       0.58      0.77      0.66      1817\n",
      "   消化内科       0.43      0.71      0.53      1701\n",
      "      烧伤科       0.00      0.00      0.00        62\n",
      "         男科       0.71      0.56      0.63      1215\n",
      "      疼痛科       0.68      0.13      0.22      1236\n",
      "      皮肤科       0.58      0.80      0.67      1829\n",
      "         眼科       0.80      0.94      0.86      1801\n",
      "   神经内科       0.38      0.76      0.50      1739\n",
      "   神经外科       0.75      0.42      0.54      1188\n",
      "      精神科       0.80      0.43      0.56       747\n",
      "耳鼻咽喉科       0.70      0.80      0.75      1832\n",
      "   肛肠外科       0.86      0.71      0.78      1141\n",
      "   肝胆外科       0.83      0.59      0.69      1215\n",
      "      肾内科       0.84      0.64      0.73      1131\n",
      "      肿瘤科       0.65      0.75      0.69      1467\n",
      "      胸外科       0.00      0.00      0.00       114\n",
      "   脊柱外科       0.86      0.28      0.42      1088\n",
      "      血液科       0.86      0.65      0.74      1184\n",
      "   血管外科       0.83      0.41      0.55       802\n",
      "风湿免疫科       0.82      0.64      0.72      1172\n",
      "         骨科       0.46      0.85      0.60      1777\n",
      "\n",
      "    avg / total       0.68      0.64      0.62     49242\n",
      "\n"
     ]
    }
   ],
   "source": [
    "print result_bayes"
   ]
  },
  {
   "cell_type": "markdown",
   "metadata": {},
   "source": [
    "## logistic"
   ]
  },
  {
   "cell_type": "code",
   "execution_count": 15,
   "metadata": {
    "collapsed": true
   },
   "outputs": [],
   "source": [
    "from sklearn.linear_model import LogisticRegression"
   ]
  },
  {
   "cell_type": "code",
   "execution_count": 16,
   "metadata": {
    "collapsed": false
   },
   "outputs": [
    {
     "name": "stdout",
     "output_type": "stream",
     "text": [
      "48.395321\n"
     ]
    }
   ],
   "source": [
    "# 训练分类器\n",
    "solver = 'sag'\n",
    "clf_logistic = LogisticRegression(solver = solver,\n",
    "                                  multi_class = 'multinomial',\n",
    "                                  C = 1,\n",
    "                                  penalty = 'l2'\n",
    "                                  )\n",
    "t1 = time.clock()\n",
    "clf_logistic = clf_logistic.fit(xtrain_tfidf, ytrain)\n",
    "train_time = time.clock() - t1\n",
    "print train_time"
   ]
  },
  {
   "cell_type": "code",
   "execution_count": 17,
   "metadata": {
    "collapsed": false
   },
   "outputs": [],
   "source": [
    "# 保存模型\n",
    "from sklearn.externals import joblib\n",
    "joblib.dump(clf_logistic, 'app_logistic.pkl')\n",
    "\n",
    "# 加载模型\n",
    "clf_logistic = joblib.load('app_logistic.pkl')"
   ]
  },
  {
   "cell_type": "code",
   "execution_count": 18,
   "metadata": {
    "collapsed": false
   },
   "outputs": [],
   "source": [
    "# 预测并计算准确率\n",
    "predicted_logistic = clf_logistic.predict(xtest_tfidf)\n",
    "# np.mean(predicted_bayes == ytest)\n",
    "# clf_bayes.score(xtest_tfidf, ytest)\n",
    "\n",
    "# predicted_svm = clf_svm.predict(xtest_tfidf)\n",
    "# np.mean(predicted_svm == ytest)"
   ]
  },
  {
   "cell_type": "code",
   "execution_count": 19,
   "metadata": {
    "collapsed": false
   },
   "outputs": [],
   "source": [
    "# 分类计算准确率\n",
    "from sklearn import metrics\n",
    "result_logistic = metrics.classification_report(ytest, predicted_logistic)"
   ]
  },
  {
   "cell_type": "code",
   "execution_count": 20,
   "metadata": {
    "collapsed": false
   },
   "outputs": [],
   "source": [
    "# 保存结果\n",
    "with open(\"result_using_logistic.txt\", 'wb') as f:\n",
    "    f.write(result_logistic)\n",
    "    f.close()"
   ]
  },
  {
   "cell_type": "code",
   "execution_count": 21,
   "metadata": {
    "collapsed": false
   },
   "outputs": [
    {
     "name": "stdout",
     "output_type": "stream",
     "text": [
      "                 precision    recall  f1-score   support\n",
      "\n",
      "      中医科       0.54      0.52      0.53      1840\n",
      "   乳腺外科       0.86      0.88      0.87      1380\n",
      "         产科       0.77      0.83      0.80      1807\n",
      "         儿科       0.60      0.65      0.62      1805\n",
      "   内分泌科       0.72      0.72      0.72      1722\n",
      "      口腔科       0.87      0.89      0.88      1775\n",
      "   呼吸内科       0.70      0.72      0.71      1822\n",
      "         妇科       0.77      0.80      0.78      1819\n",
      "      康复科       0.80      0.63      0.71       239\n",
      "      心理科       0.79      0.67      0.72       434\n",
      "心血管内科       0.74      0.79      0.77      1527\n",
      "心血管外科       0.75      0.27      0.40       141\n",
      "      急诊科       0.83      0.76      0.79       978\n",
      "      性病科       0.83      0.69      0.75       845\n",
      "      感染科       0.77      0.67      0.71      1150\n",
      "   整形外科       0.71      0.33      0.45       201\n",
      "   新生儿科       0.75      0.64      0.69       722\n",
      "      普外科       0.59      0.54      0.56      1521\n",
      "   普通内科       0.61      0.39      0.47      1256\n",
      "   泌尿外科       0.70      0.71      0.71      1817\n",
      "   消化内科       0.59      0.68      0.63      1701\n",
      "      烧伤科       0.88      0.56      0.69        62\n",
      "         男科       0.67      0.70      0.68      1215\n",
      "      疼痛科       0.60      0.52      0.56      1236\n",
      "      皮肤科       0.63      0.81      0.71      1829\n",
      "         眼科       0.86      0.92      0.89      1801\n",
      "   神经内科       0.58      0.68      0.63      1739\n",
      "   神经外科       0.74      0.63      0.68      1188\n",
      "      精神科       0.75      0.76      0.75       747\n",
      "耳鼻咽喉科       0.77      0.82      0.79      1832\n",
      "   肛肠外科       0.84      0.83      0.84      1141\n",
      "   肝胆外科       0.79      0.77      0.78      1215\n",
      "      肾内科       0.81      0.76      0.78      1131\n",
      "      肿瘤科       0.74      0.76      0.75      1467\n",
      "      胸外科       0.69      0.16      0.26       114\n",
      "   脊柱外科       0.74      0.65      0.69      1088\n",
      "      血液科       0.80      0.77      0.78      1184\n",
      "   血管外科       0.77      0.72      0.75       802\n",
      "风湿免疫科       0.80      0.77      0.78      1172\n",
      "         骨科       0.63      0.71      0.67      1777\n",
      "\n",
      "    avg / total       0.72      0.72      0.72     49242\n",
      "\n"
     ]
    }
   ],
   "source": [
    "print result_logistic"
   ]
  },
  {
   "cell_type": "markdown",
   "metadata": {
    "collapsed": true
   },
   "source": [
    "## random forest"
   ]
  },
  {
   "cell_type": "code",
   "execution_count": 36,
   "metadata": {
    "collapsed": true
   },
   "outputs": [],
   "source": [
    "from sklearn.ensemble import RandomForestClassifier"
   ]
  },
  {
   "cell_type": "code",
   "execution_count": null,
   "metadata": {
    "collapsed": false
   },
   "outputs": [],
   "source": [
    "# 训练分类器\n",
    "\n",
    "clf_rf = RandomForestClassifier(n_estimators = 10)\n",
    "\n",
    "t1 = time.clock()\n",
    "clf_rf = clf_rf.fit(xtrain_tfidf, ytrain)\n",
    "train_time = time.clock() - t1\n",
    "print train_time"
   ]
  },
  {
   "cell_type": "code",
   "execution_count": 38,
   "metadata": {
    "collapsed": true
   },
   "outputs": [],
   "source": [
    "# 保存模型\n",
    "from sklearn.externals import joblib\n",
    "joblib.dump(clf_rf, 'app_rf.pkl')\n",
    "\n",
    "# 加载模型\n",
    "clf_rf = joblib.load('app_rf.pkl')"
   ]
  },
  {
   "cell_type": "code",
   "execution_count": 39,
   "metadata": {
    "collapsed": true
   },
   "outputs": [],
   "source": [
    "# 预测并计算准确率\n",
    "predicted_rf = clf_rf.predict(xtest_tfidf)\n",
    "# np.mean(predicted_bayes == ytest)\n",
    "# clf_bayes.score(xtest_tfidf, ytest)\n",
    "\n",
    "# predicted_svm = clf_svm.predict(xtest_tfidf)\n",
    "# np.mean(predicted_svm == ytest)"
   ]
  },
  {
   "cell_type": "code",
   "execution_count": 40,
   "metadata": {
    "collapsed": true
   },
   "outputs": [],
   "source": [
    "# 分类计算准确率\n",
    "from sklearn import metrics\n",
    "result_rf = metrics.classification_report(ytest, predicted_rf)"
   ]
  },
  {
   "cell_type": "code",
   "execution_count": 41,
   "metadata": {
    "collapsed": true
   },
   "outputs": [],
   "source": [
    "# 保存结果\n",
    "with open(\"result_using_rf.txt\", 'wb') as f:\n",
    "    f.write(result_rf)\n",
    "    f.close()"
   ]
  },
  {
   "cell_type": "code",
   "execution_count": 42,
   "metadata": {
    "collapsed": false
   },
   "outputs": [
    {
     "name": "stdout",
     "output_type": "stream",
     "text": [
      "                 precision    recall  f1-score   support\n",
      "\n",
      "      中医科       0.44      0.44      0.44      1840\n",
      "   乳腺外科       0.74      0.89      0.81      1380\n",
      "         产科       0.67      0.79      0.72      1807\n",
      "         儿科       0.49      0.61      0.55      1805\n",
      "   内分泌科       0.62      0.64      0.63      1722\n",
      "      口腔科       0.79      0.88      0.83      1775\n",
      "   呼吸内科       0.61      0.70      0.65      1822\n",
      "         妇科       0.69      0.76      0.73      1819\n",
      "      康复科       0.72      0.70      0.71       239\n",
      "      心理科       0.69      0.63      0.66       434\n",
      "心血管内科       0.64      0.74      0.69      1527\n",
      "心血管外科       0.58      0.24      0.34       141\n",
      "      急诊科       0.75      0.72      0.74       978\n",
      "      性病科       0.75      0.67      0.71       845\n",
      "      感染科       0.70      0.60      0.65      1150\n",
      "   整形外科       0.54      0.21      0.31       201\n",
      "   新生儿科       0.70      0.60      0.64       722\n",
      "      普外科       0.53      0.45      0.49      1521\n",
      "   普通内科       0.54      0.33      0.41      1256\n",
      "   泌尿外科       0.59      0.66      0.62      1817\n",
      "   消化内科       0.54      0.53      0.54      1701\n",
      "      烧伤科       0.79      0.53      0.63        62\n",
      "         男科       0.62      0.62      0.62      1215\n",
      "      疼痛科       0.54      0.41      0.47      1236\n",
      "      皮肤科       0.60      0.70      0.65      1829\n",
      "         眼科       0.77      0.91      0.83      1801\n",
      "   神经内科       0.61      0.54      0.57      1739\n",
      "   神经外科       0.70      0.52      0.59      1188\n",
      "      精神科       0.72      0.72      0.72       747\n",
      "耳鼻咽喉科       0.72      0.75      0.74      1832\n",
      "   肛肠外科       0.76      0.83      0.79      1141\n",
      "   肝胆外科       0.74      0.71      0.72      1215\n",
      "      肾内科       0.79      0.72      0.75      1131\n",
      "      肿瘤科       0.73      0.69      0.71      1467\n",
      "      胸外科       0.52      0.12      0.20       114\n",
      "   脊柱外科       0.67      0.66      0.66      1088\n",
      "      血液科       0.79      0.70      0.74      1184\n",
      "   血管外科       0.74      0.67      0.70       802\n",
      "风湿免疫科       0.74      0.67      0.70      1172\n",
      "         骨科       0.64      0.58      0.61      1777\n",
      "\n",
      "    avg / total       0.66      0.66      0.65     49242\n",
      "\n"
     ]
    }
   ],
   "source": [
    "print result_rf"
   ]
  }
 ],
 "metadata": {
  "kernelspec": {
   "display_name": "Python 2",
   "language": "python",
   "name": "python2"
  },
  "language_info": {
   "codemirror_mode": {
    "name": "ipython",
    "version": 2
   },
   "file_extension": ".py",
   "mimetype": "text/x-python",
   "name": "python",
   "nbconvert_exporter": "python",
   "pygments_lexer": "ipython2",
   "version": "2.7.13"
  }
 },
 "nbformat": 4,
 "nbformat_minor": 2
}
