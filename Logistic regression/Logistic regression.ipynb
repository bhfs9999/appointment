{
 "cells": [
  {
   "cell_type": "code",
   "execution_count": 11,
   "metadata": {
    "collapsed": true
   },
   "outputs": [],
   "source": [
    "import time\n",
    "from sklearn.model_selection import train_test_split\n",
    "from sklearn.feature_extraction.text import CountVectorizer\n",
    "from sklearn.feature_extraction.text import TfidfTransformer\n",
    "from sklearn.feature_extraction.text import TfidfVectorizer\n",
    "import numpy as np"
   ]
  },
  {
   "cell_type": "code",
   "execution_count": 12,
   "metadata": {},
   "outputs": [
    {
     "name": "stdout",
     "output_type": "stream",
     "text": [
      "(196796,) (49209,)\n"
     ]
    }
   ],
   "source": [
    "# 加载数据\n",
    "ytrain, xtrain = np.loadtxt('../../data/search_appointments_split_train_final.txt', dtype='str', delimiter = '\\t', unpack = True)\n",
    "ytest, xtest = np.loadtxt('../../data/search_appointments_split_test_final.txt', dtype='str', delimiter = '\\t', unpack = True)\n",
    "print xtrain.shape, xtest.shape"
   ]
  },
  {
   "cell_type": "code",
   "execution_count": 13,
   "metadata": {},
   "outputs": [
    {
     "name": "stdout",
     "output_type": "stream",
     "text": [
      "(196796, 95023)\n",
      "(49209, 95023)\n"
     ]
    }
   ],
   "source": [
    "# 提取特征\n",
    "tfidf_vect = TfidfVectorizer()\n",
    "xtrain_tfidf = tfidf_vect.fit_transform(xtrain)\n",
    "xtest_tfidf = tfidf_vect.transform(xtest)\n",
    "print xtrain_tfidf.shape\n",
    "print xtest_tfidf.shape"
   ]
  },
  {
   "cell_type": "markdown",
   "metadata": {},
   "source": [
    "## bayes"
   ]
  },
  {
   "cell_type": "code",
   "execution_count": 14,
   "metadata": {
    "collapsed": true
   },
   "outputs": [],
   "source": [
    "from sklearn.naive_bayes import MultinomialNB"
   ]
  },
  {
   "cell_type": "code",
   "execution_count": 15,
   "metadata": {},
   "outputs": [
    {
     "name": "stdout",
     "output_type": "stream",
     "text": [
      "32.625\n"
     ]
    }
   ],
   "source": [
    "# 训练分类器\n",
    "t1 = time.clock()\n",
    "clf_bayes = MultinomialNB().fit(xtrain_tfidf, ytrain)\n",
    "train_time = time.clock() - t1\n",
    "print train_time\n",
    "# clf_svm = svm.SVC(kernel='linear').fit(xtrain_tfidf, ytrain)"
   ]
  },
  {
   "cell_type": "code",
   "execution_count": 16,
   "metadata": {
    "collapsed": true
   },
   "outputs": [],
   "source": [
    "# 保存模型\n",
    "from sklearn.externals import joblib\n",
    "joblib.dump(clf_bayes, 'app_bayes.pkl')\n",
    "\n",
    "# 加载模型\n",
    "clf_bayes = joblib.load('app_bayes.pkl')"
   ]
  },
  {
   "cell_type": "code",
   "execution_count": 17,
   "metadata": {
    "collapsed": true
   },
   "outputs": [],
   "source": [
    "# 预测并计算准确率\n",
    "predicted_bayes = clf_bayes.predict(xtest_tfidf)\n",
    "# np.mean(predicted_bayes == ytest)\n",
    "# clf_bayes.score(xtest_tfidf, ytest)\n",
    "\n",
    "# predicted_svm = clf_svm.predict(xtest_tfidf)\n",
    "# np.mean(predicted_svm == ytest)"
   ]
  },
  {
   "cell_type": "code",
   "execution_count": 18,
   "metadata": {},
   "outputs": [],
   "source": [
    "# 分类计算准确率\n",
    "from sklearn import metrics\n",
    "result_bayes = metrics.classification_report(ytest, predicted_bayes)"
   ]
  },
  {
   "cell_type": "code",
   "execution_count": 19,
   "metadata": {
    "collapsed": true
   },
   "outputs": [],
   "source": [
    "# 保存结果\n",
    "with open(\"result_using_bayes.txt\", 'wb') as f:\n",
    "    f.write(result_bayes)\n",
    "    f.close()"
   ]
  },
  {
   "cell_type": "code",
   "execution_count": 20,
   "metadata": {},
   "outputs": [
    {
     "name": "stdout",
     "output_type": "stream",
     "text": [
      "                 precision    recall  f1-score   support\n",
      "\n",
      "      中医科       0.51      0.49      0.50      1794\n",
      "   乳腺外科       0.79      0.86      0.82      1375\n",
      "         产科       0.72      0.77      0.74      1795\n",
      "         儿科       0.48      0.63      0.55      1799\n",
      "   内分泌科       0.64      0.68      0.66      1756\n",
      "      口腔科       0.85      0.89      0.87      1798\n",
      "   呼吸内科       0.55      0.78      0.64      1800\n",
      "         妇科       0.68      0.84      0.76      1797\n",
      "      康复科       1.00      0.07      0.14       242\n",
      "      心理科       0.99      0.34      0.50       426\n",
      "心血管内科       0.66      0.76      0.70      1535\n",
      "心血管外科       0.00      0.00      0.00       142\n",
      "      急诊科       0.95      0.56      0.70      1009\n",
      "      性病科       0.89      0.55      0.68       805\n",
      "      感染科       0.86      0.42      0.56      1141\n",
      "   整形外科       1.00      0.01      0.01       173\n",
      "   新生儿科       0.83      0.40      0.54       701\n",
      "      普外科       0.55      0.40      0.46      1531\n",
      "   普通内科       0.86      0.25      0.39      1209\n",
      "   泌尿外科       0.58      0.75      0.65      1795\n",
      "   消化内科       0.46      0.68      0.55      1797\n",
      "      烧伤科       0.00      0.00      0.00        48\n",
      "         男科       0.72      0.57      0.63      1261\n",
      "      疼痛科       0.59      0.14      0.23      1156\n",
      "      皮肤科       0.60      0.81      0.69      1790\n",
      "         眼科       0.80      0.92      0.86      1796\n",
      "   神经内科       0.40      0.76      0.53      1797\n",
      "   神经外科       0.77      0.45      0.57      1212\n",
      "      精神科       0.82      0.52      0.64       772\n",
      "耳鼻咽喉科       0.71      0.80      0.75      1798\n",
      "   肛肠外科       0.86      0.67      0.75      1125\n",
      "   肝胆外科       0.83      0.62      0.71      1221\n",
      "      肾内科       0.84      0.64      0.72      1192\n",
      "      肿瘤科       0.62      0.73      0.67      1415\n",
      "      胸外科       0.00      0.00      0.00       113\n",
      "   脊柱外科       0.85      0.29      0.43      1072\n",
      "      血液科       0.80      0.71      0.75      1156\n",
      "   血管外科       0.84      0.43      0.57       853\n",
      "风湿免疫科       0.83      0.68      0.75      1213\n",
      "         骨科       0.47      0.86      0.61      1799\n",
      "\n",
      "    avg / total       0.69      0.65      0.63     49209\n",
      "\n"
     ]
    }
   ],
   "source": [
    "print result_bayes"
   ]
  },
  {
   "cell_type": "markdown",
   "metadata": {},
   "source": [
    "## logistic"
   ]
  },
  {
   "cell_type": "code",
   "execution_count": 21,
   "metadata": {
    "collapsed": true
   },
   "outputs": [],
   "source": [
    "from sklearn.linear_model import LogisticRegression"
   ]
  },
  {
   "cell_type": "code",
   "execution_count": 22,
   "metadata": {},
   "outputs": [
    {
     "name": "stdout",
     "output_type": "stream",
     "text": [
      "74.3125\n"
     ]
    }
   ],
   "source": [
    "# 训练分类器\n",
    "solver = 'sag'\n",
    "clf_logistic = LogisticRegression(solver = solver,\n",
    "                                  multi_class = 'multinomial',\n",
    "                                  C = 1,\n",
    "                                  penalty = 'l2'\n",
    "                                  )\n",
    "t1 = time.clock()\n",
    "clf_logistic = clf_logistic.fit(xtrain_tfidf, ytrain)\n",
    "train_time = time.clock() - t1\n",
    "print train_time"
   ]
  },
  {
   "cell_type": "code",
   "execution_count": 23,
   "metadata": {
    "collapsed": true
   },
   "outputs": [],
   "source": [
    "# 保存模型\n",
    "from sklearn.externals import joblib\n",
    "joblib.dump(clf_logistic, 'app_logistic.pkl')\n",
    "\n",
    "# 加载模型\n",
    "clf_logistic = joblib.load('app_logistic.pkl')"
   ]
  },
  {
   "cell_type": "code",
   "execution_count": 24,
   "metadata": {
    "collapsed": true
   },
   "outputs": [],
   "source": [
    "# 预测并计算准确率\n",
    "predicted_logistic = clf_logistic.predict(xtest_tfidf)\n",
    "# np.mean(predicted_bayes == ytest)\n",
    "# clf_bayes.score(xtest_tfidf, ytest)\n",
    "\n",
    "# predicted_svm = clf_svm.predict(xtest_tfidf)\n",
    "# np.mean(predicted_svm == ytest)"
   ]
  },
  {
   "cell_type": "code",
   "execution_count": 25,
   "metadata": {
    "collapsed": true
   },
   "outputs": [],
   "source": [
    "# 分类计算准确率\n",
    "from sklearn import metrics\n",
    "result_logistic = metrics.classification_report(ytest, predicted_logistic)"
   ]
  },
  {
   "cell_type": "code",
   "execution_count": 26,
   "metadata": {
    "collapsed": true
   },
   "outputs": [],
   "source": [
    "# 保存结果\n",
    "with open(\"result_using_logistic.txt\", 'wb') as f:\n",
    "    f.write(result_logistic)\n",
    "    f.close()"
   ]
  },
  {
   "cell_type": "code",
   "execution_count": 27,
   "metadata": {},
   "outputs": [
    {
     "name": "stdout",
     "output_type": "stream",
     "text": [
      "                 precision    recall  f1-score   support\n",
      "\n",
      "      中医科       0.55      0.54      0.55      1794\n",
      "   乳腺外科       0.84      0.87      0.85      1375\n",
      "         产科       0.77      0.82      0.80      1795\n",
      "         儿科       0.60      0.65      0.62      1799\n",
      "   内分泌科       0.76      0.70      0.73      1756\n",
      "      口腔科       0.88      0.88      0.88      1798\n",
      "   呼吸内科       0.70      0.73      0.72      1800\n",
      "         妇科       0.78      0.81      0.79      1797\n",
      "      康复科       0.81      0.67      0.73       242\n",
      "      心理科       0.79      0.70      0.74       426\n",
      "心血管内科       0.73      0.77      0.75      1535\n",
      "心血管外科       0.71      0.27      0.40       142\n",
      "      急诊科       0.87      0.79      0.83      1009\n",
      "      性病科       0.80      0.72      0.76       805\n",
      "      感染科       0.76      0.64      0.70      1141\n",
      "   整形外科       0.73      0.35      0.47       173\n",
      "   新生儿科       0.75      0.65      0.70       701\n",
      "      普外科       0.58      0.52      0.55      1531\n",
      "   普通内科       0.63      0.40      0.49      1209\n",
      "   泌尿外科       0.70      0.70      0.70      1795\n",
      "   消化内科       0.61      0.66      0.64      1797\n",
      "      烧伤科       0.75      0.50      0.60        48\n",
      "         男科       0.68      0.71      0.70      1261\n",
      "      疼痛科       0.55      0.56      0.55      1156\n",
      "      皮肤科       0.64      0.80      0.71      1790\n",
      "         眼科       0.87      0.91      0.89      1796\n",
      "   神经内科       0.59      0.70      0.64      1797\n",
      "   神经外科       0.72      0.63      0.67      1212\n",
      "      精神科       0.76      0.78      0.77       772\n",
      "耳鼻咽喉科       0.77      0.82      0.79      1798\n",
      "   肛肠外科       0.84      0.82      0.83      1125\n",
      "   肝胆外科       0.79      0.78      0.78      1221\n",
      "      肾内科       0.81      0.74      0.77      1192\n",
      "      肿瘤科       0.72      0.75      0.73      1415\n",
      "      胸外科       0.73      0.14      0.24       113\n",
      "   脊柱外科       0.74      0.66      0.69      1072\n",
      "      血液科       0.79      0.79      0.79      1156\n",
      "   血管外科       0.76      0.72      0.74       853\n",
      "风湿免疫科       0.82      0.76      0.79      1213\n",
      "         骨科       0.63      0.72      0.67      1799\n",
      "\n",
      "    avg / total       0.72      0.72      0.72     49209\n",
      "\n"
     ]
    }
   ],
   "source": [
    "print result_logistic"
   ]
  },
  {
   "cell_type": "markdown",
   "metadata": {
    "collapsed": true
   },
   "source": [
    "## random forest"
   ]
  },
  {
   "cell_type": "code",
   "execution_count": 28,
   "metadata": {
    "collapsed": true
   },
   "outputs": [],
   "source": [
    "from sklearn.ensemble import RandomForestClassifier"
   ]
  },
  {
   "cell_type": "code",
   "execution_count": 29,
   "metadata": {},
   "outputs": [
    {
     "name": "stdout",
     "output_type": "stream",
     "text": [
      "322.21875\n"
     ]
    }
   ],
   "source": [
    "# 训练分类器\n",
    "\n",
    "clf_rf = RandomForestClassifier(n_estimators = 10)\n",
    "\n",
    "t1 = time.clock()\n",
    "clf_rf = clf_rf.fit(xtrain_tfidf, ytrain)\n",
    "train_time = time.clock() - t1\n",
    "print train_time"
   ]
  },
  {
   "cell_type": "code",
   "execution_count": 30,
   "metadata": {
    "collapsed": true
   },
   "outputs": [],
   "source": [
    "# 保存模型\n",
    "from sklearn.externals import joblib\n",
    "joblib.dump(clf_rf, 'app_rf.pkl')\n",
    "\n",
    "# 加载模型\n",
    "clf_rf = joblib.load('app_rf.pkl')"
   ]
  },
  {
   "cell_type": "code",
   "execution_count": 31,
   "metadata": {
    "collapsed": true
   },
   "outputs": [],
   "source": [
    "# 预测并计算准确率\n",
    "predicted_rf = clf_rf.predict(xtest_tfidf)\n",
    "# np.mean(predicted_bayes == ytest)\n",
    "# clf_bayes.score(xtest_tfidf, ytest)\n",
    "\n",
    "# predicted_svm = clf_svm.predict(xtest_tfidf)\n",
    "# np.mean(predicted_svm == ytest)"
   ]
  },
  {
   "cell_type": "code",
   "execution_count": 32,
   "metadata": {
    "collapsed": true
   },
   "outputs": [],
   "source": [
    "# 分类计算准确率\n",
    "from sklearn import metrics\n",
    "result_rf = metrics.classification_report(ytest, predicted_rf)"
   ]
  },
  {
   "cell_type": "code",
   "execution_count": 33,
   "metadata": {
    "collapsed": true
   },
   "outputs": [],
   "source": [
    "# 保存结果\n",
    "with open(\"result_using_rf.txt\", 'wb') as f:\n",
    "    f.write(result_rf)\n",
    "    f.close()"
   ]
  },
  {
   "cell_type": "code",
   "execution_count": 34,
   "metadata": {},
   "outputs": [
    {
     "name": "stdout",
     "output_type": "stream",
     "text": [
      "                 precision    recall  f1-score   support\n",
      "\n",
      "      中医科       0.41      0.44      0.42      1794\n",
      "   乳腺外科       0.74      0.91      0.81      1375\n",
      "         产科       0.68      0.80      0.73      1795\n",
      "         儿科       0.54      0.62      0.58      1799\n",
      "   内分泌科       0.63      0.68      0.66      1756\n",
      "      口腔科       0.80      0.88      0.83      1798\n",
      "   呼吸内科       0.62      0.72      0.67      1800\n",
      "         妇科       0.70      0.78      0.74      1797\n",
      "      康复科       0.74      0.71      0.73       242\n",
      "      心理科       0.70      0.63      0.66       426\n",
      "心血管内科       0.63      0.74      0.68      1535\n",
      "心血管外科       0.76      0.26      0.39       142\n",
      "      急诊科       0.79      0.74      0.76      1009\n",
      "      性病科       0.77      0.69      0.73       805\n",
      "      感染科       0.72      0.56      0.63      1141\n",
      "   整形外科       0.49      0.29      0.37       173\n",
      "   新生儿科       0.73      0.63      0.67       701\n",
      "      普外科       0.56      0.42      0.48      1531\n",
      "   普通内科       0.56      0.37      0.45      1209\n",
      "   泌尿外科       0.60      0.62      0.61      1795\n",
      "   消化内科       0.58      0.55      0.57      1797\n",
      "      烧伤科       0.70      0.54      0.61        48\n",
      "         男科       0.61      0.62      0.62      1261\n",
      "      疼痛科       0.45      0.45      0.45      1156\n",
      "      皮肤科       0.63      0.69      0.66      1790\n",
      "         眼科       0.82      0.89      0.85      1796\n",
      "   神经内科       0.60      0.58      0.59      1797\n",
      "   神经外科       0.72      0.55      0.62      1212\n",
      "      精神科       0.72      0.73      0.72       772\n",
      "耳鼻咽喉科       0.74      0.76      0.75      1798\n",
      "   肛肠外科       0.77      0.84      0.80      1125\n",
      "   肝胆外科       0.75      0.72      0.74      1221\n",
      "      肾内科       0.79      0.72      0.76      1192\n",
      "      肿瘤科       0.71      0.68      0.69      1415\n",
      "      胸外科       0.52      0.11      0.18       113\n",
      "   脊柱外科       0.68      0.67      0.67      1072\n",
      "      血液科       0.79      0.73      0.76      1156\n",
      "   血管外科       0.78      0.71      0.74       853\n",
      "风湿免疫科       0.81      0.71      0.76      1213\n",
      "         骨科       0.63      0.58      0.60      1799\n",
      "\n",
      "    avg / total       0.67      0.67      0.66     49209\n",
      "\n"
     ]
    }
   ],
   "source": [
    "print result_rf"
   ]
  },
  {
   "cell_type": "code",
   "execution_count": null,
   "metadata": {
    "collapsed": true
   },
   "outputs": [],
   "source": []
  }
 ],
 "metadata": {
  "kernelspec": {
   "display_name": "Python 2",
   "language": "python",
   "name": "python2"
  },
  "language_info": {
   "codemirror_mode": {
    "name": "ipython",
    "version": 2
   },
   "file_extension": ".py",
   "mimetype": "text/x-python",
   "name": "python",
   "nbconvert_exporter": "python",
   "pygments_lexer": "ipython2",
   "version": "2.7.13"
  }
 },
 "nbformat": 4,
 "nbformat_minor": 2
}
